{
 "cells": [
  {
   "cell_type": "code",
   "execution_count": 1,
   "id": "027c3570-b944-49d1-bb4c-8492b582d063",
   "metadata": {},
   "outputs": [],
   "source": [
    "from generated_data import TropicalArea\n",
    "kiambu_data = TropicalArea(num_entries = 100)\n",
    "kiambu_data.store_data()"
   ]
  }
 ],
 "metadata": {
  "kernelspec": {
   "display_name": "Python 3 (ipykernel)",
   "language": "python",
   "name": "python3"
  },
  "language_info": {
   "codemirror_mode": {
    "name": "ipython",
    "version": 3
   },
   "file_extension": ".py",
   "mimetype": "text/x-python",
   "name": "python",
   "nbconvert_exporter": "python",
   "pygments_lexer": "ipython3",
   "version": "3.12.0"
  }
 },
 "nbformat": 4,
 "nbformat_minor": 5
}
